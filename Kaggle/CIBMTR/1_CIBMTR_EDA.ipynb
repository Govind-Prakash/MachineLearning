{
  "nbformat": 4,
  "nbformat_minor": 0,
  "metadata": {
    "colab": {
      "provenance": [],
      "authorship_tag": "ABX9TyM2vs13XgnRRbLaXy49Nr8c",
      "include_colab_link": true
    },
    "kernelspec": {
      "name": "python3",
      "display_name": "Python 3"
    },
    "language_info": {
      "name": "python"
    }
  },
  "cells": [
    {
      "cell_type": "markdown",
      "metadata": {
        "id": "view-in-github",
        "colab_type": "text"
      },
      "source": [
        "<a href=\"https://colab.research.google.com/github/Govind-Prakash/MachineLearning/blob/main/Kaggle/CIBMTR/1_CIBMTR_EDA.ipynb\" target=\"_parent\"><img src=\"https://colab.research.google.com/assets/colab-badge.svg\" alt=\"Open In Colab\"/></a>"
      ]
    },
    {
      "cell_type": "markdown",
      "source": [
        "# CIBMTR - Equity in post-HCT Survival Predictions\n",
        "### [Kaggle Competition](https://www.kaggle.com/competitions/equity-post-HCT-survival-predictions/overview)\n",
        "\n",
        "This tutorial is a part of [Zero to Data Science Bootcamp by Jovian](https://zerotodatascience.com) and [Machine Learning with Python: Zero to GBMs](https://jovian.ai/learn/machine-learning-with-python-zero-to-gbms), I am following Akash's tutorial from [Youtube](https://www.youtube.com/watch?v=hDKCxebp88A&list=PLficpCFOgO5BkGqwo7fbyACAKJxr8Hwwc&index=6), I found this tutorial very helpful, I will also do exercises given in this tutorial by myself, explore the notebook to know more.\n",
        "\n",
        "![](https://i.imgur.com/1EzyZvj.png)"
      ],
      "metadata": {
        "id": "uiwLiUfm895U"
      }
    }
  ]
}