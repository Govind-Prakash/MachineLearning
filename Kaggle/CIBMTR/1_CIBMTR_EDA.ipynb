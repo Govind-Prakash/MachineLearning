{
  "nbformat": 4,
  "nbformat_minor": 0,
  "metadata": {
    "colab": {
      "provenance": [],
      "authorship_tag": "ABX9TyMwXvUpXtwbVoHDQ7Z0JLVT",
      "include_colab_link": true
    },
    "kernelspec": {
      "name": "python3",
      "display_name": "Python 3"
    },
    "language_info": {
      "name": "python"
    }
  },
  "cells": [
    {
      "cell_type": "markdown",
      "metadata": {
        "id": "view-in-github",
        "colab_type": "text"
      },
      "source": [
        "<a href=\"https://colab.research.google.com/github/Govind-Prakash/MachineLearning/blob/main/Kaggle/CIBMTR/1_CIBMTR_EDA.ipynb\" target=\"_parent\"><img src=\"https://colab.research.google.com/assets/colab-badge.svg\" alt=\"Open In Colab\"/></a>"
      ]
    },
    {
      "cell_type": "markdown",
      "source": [
        "# CIBMTR - Equity in post-HCT Survival Predictions\n",
        "\n",
        "TIn this competition, I will develop models to improve the prediction of transplant survival rates for patients undergoing allogeneic Hematopoietic Cell Transplantation (HCT) — an important step in ensuring that every patient has a fair chance at a successful outcome, regardless of their background.\n",
        "\n",
        "For details visit this [Kaggle Competition](https://www.kaggle.com/competitions/equity-post-HCT-survival-predictions/overview) page\n",
        "\n",
        "![HCT Transplant](https://www.emjreviews.com/wp-content/uploads/2024/11/11am-Hema-8.jpg)\n"
      ],
      "metadata": {
        "id": "_Hv7Oo6b-4u-"
      }
    },
    {
      "cell_type": "markdown",
      "source": [
        "## Overview of my Approach\n",
        "\n",
        " 1. Download the Data from kaggle\n",
        " 2. Clean the Data\n",
        " 3. Do exploratory data analysis\n",
        " 4. Make a dumb model to predict\n",
        " 5. Make a regression Model"
      ],
      "metadata": {
        "id": "RfGNASsR_dlW"
      }
    },
    {
      "cell_type": "markdown",
      "source": [
        "## Importing Important Libraries"
      ],
      "metadata": {
        "id": "amqyKlQnCRA8"
      }
    },
    {
      "cell_type": "code",
      "source": [
        "#restart the kernel after installation\n",
        "!pip install pandas-profiling --quiet\n",
        "#importing important Libraries\n",
        "!pip install numpy pandas opendatasets scikit-learn xgboost --quiet"
      ],
      "metadata": {
        "id": "0V3udti2BX4A"
      },
      "execution_count": 3,
      "outputs": []
    },
    {
      "cell_type": "code",
      "source": [
        "#Import opendataset to download CIBMTR data\n",
        "import opendatasets as od"
      ],
      "metadata": {
        "id": "g8sEpwsHB0bc"
      },
      "execution_count": 4,
      "outputs": []
    },
    {
      "cell_type": "code",
      "source": [
        "dataset_url='https://www.kaggle.com/competitions/equity-post-HCT-survival-predictions/overview'"
      ],
      "metadata": {
        "id": "D4W11e7LCui_"
      },
      "execution_count": 5,
      "outputs": []
    },
    {
      "cell_type": "code",
      "source": [
        "%%time\n",
        "od.download(dataset_url)"
      ],
      "metadata": {
        "id": "eJbY7pbBC6H4",
        "outputId": "fc6557ce-89cf-4b9e-a137-6d70bf83fce3",
        "colab": {
          "base_uri": "https://localhost:8080/"
        }
      },
      "execution_count": 7,
      "outputs": [
        {
          "output_type": "stream",
          "name": "stdout",
          "text": [
            "Downloading equity-post-HCT-survival-predictions.zip to ./equity-post-HCT-survival-predictions\n"
          ]
        },
        {
          "output_type": "stream",
          "name": "stderr",
          "text": [
            "100%|██████████| 1.27M/1.27M [00:00<00:00, 124MB/s]"
          ]
        },
        {
          "output_type": "stream",
          "name": "stdout",
          "text": [
            "\n",
            "Extracting archive ./equity-post-HCT-survival-predictions/equity-post-HCT-survival-predictions.zip to ./equity-post-HCT-survival-predictions\n",
            "CPU times: user 588 ms, sys: 48.5 ms, total: 636 ms\n",
            "Wall time: 1.22 s\n"
          ]
        },
        {
          "output_type": "stream",
          "name": "stderr",
          "text": [
            "\n"
          ]
        }
      ]
    },
    {
      "cell_type": "code",
      "source": [
        "data_dir = './equity-post-HCT-survival-predictions'"
      ],
      "metadata": {
        "id": "IobnoIUDDoEQ"
      },
      "execution_count": 11,
      "outputs": []
    },
    {
      "cell_type": "markdown",
      "source": [
        "## View Data"
      ],
      "metadata": {
        "id": "Akxuy583EBkm"
      }
    },
    {
      "cell_type": "code",
      "source": [
        "# List of files with size\n",
        "!ls -lh {data_dir}"
      ],
      "metadata": {
        "id": "w6WQLVDoEEPE",
        "outputId": "f6742382-7e41-4a8e-ad31-cd92a08ec501",
        "colab": {
          "base_uri": "https://localhost:8080/"
        }
      },
      "execution_count": 12,
      "outputs": [
        {
          "output_type": "stream",
          "name": "stdout",
          "text": [
            "total 9.5M\n",
            "-rw-r--r-- 1 root root 5.9K Jan  3 16:43 data_dictionary.csv\n",
            "-rw-r--r-- 1 root root   44 Jan  3 16:43 sample_submission.csv\n",
            "-rw-r--r-- 1 root root 1.8K Jan  3 16:43 test.csv\n",
            "-rw-r--r-- 1 root root 9.5M Jan  3 16:43 train.csv\n"
          ]
        }
      ]
    },
    {
      "cell_type": "code",
      "source": [
        "# Training set\n",
        "!head {data_dir}/train.csv"
      ],
      "metadata": {
        "id": "sNLO7JF9Eaq4",
        "outputId": "59d645be-2dc5-454c-f745-0196463c190e",
        "colab": {
          "base_uri": "https://localhost:8080/"
        }
      },
      "execution_count": 13,
      "outputs": [
        {
          "output_type": "stream",
          "name": "stdout",
          "text": [
            "ID,dri_score,psych_disturb,cyto_score,diabetes,hla_match_c_high,hla_high_res_8,tbi_status,arrhythmia,hla_low_res_6,graft_type,vent_hist,renal_issue,pulm_severe,prim_disease_hct,hla_high_res_6,cmv_status,hla_high_res_10,hla_match_dqb1_high,tce_imm_match,hla_nmdp_6,hla_match_c_low,rituximab,hla_match_drb1_low,hla_match_dqb1_low,prod_type,cyto_score_detail,conditioning_intensity,ethnicity,year_hct,obesity,mrd_hct,in_vivo_tcd,tce_match,hla_match_a_high,hepatic_severe,donor_age,prior_tumor,hla_match_b_low,peptic_ulcer,age_at_hct,hla_match_a_low,gvhd_proph,rheum_issue,sex_match,hla_match_b_high,race_group,comorbidity_score,karnofsky_score,hepatic_mild,tce_div_match,donor_related,melphalan_dose,hla_low_res_8,cardiac,hla_match_drb1_high,pulm_moderate,hla_low_res_10,efs,efs_time\n",
            "0,N/A - non-malignant indication,No,,No,,,No TBI,No,6.0,Bone marrow,No,No,No,IEA,6.0,+/+,,2.0,,6.0,2.0,No,2.0,2.0,BM,,,Not Hispanic or Latino,2016,No,,Yes,,2.0,No,,No,2.0,No,9.942,2.0,FKalone,No,M-F,2.0,More than one race,0.0,90.0,No,,Unrelated,\"N/A, Mel not given\",8.0,No,2.0,No,10.0,0.0,42.356\n",
            "1,Intermediate,No,Intermediate,No,2.0,8.0,\"TBI +- Other, >cGy\",No,6.0,Peripheral blood,No,No,No,AML,6.0,+/+,10.0,2.0,P/P,6.0,2.0,No,2.0,2.0,PB,Intermediate,MAC,Not Hispanic or Latino,2008,No,Positive,No,Permissive,2.0,No,72.29,No,2.0,No,43.705,2.0,Other GVHD Prophylaxis,No,F-F,2.0,Asian,3.0,90.0,No,Permissive mismatched,Related,\"N/A, Mel not given\",8.0,No,2.0,Yes,10.0,1.0,4.672\n",
            "2,N/A - non-malignant indication,No,,No,2.0,8.0,No TBI,No,6.0,Bone marrow,No,No,No,HIS,6.0,+/+,10.0,2.0,P/P,6.0,2.0,No,2.0,2.0,BM,,,Not Hispanic or Latino,2019,No,,Yes,,2.0,No,,No,2.0,No,33.997,2.0,Cyclophosphamide alone,No,F-M,2.0,More than one race,0.0,90.0,No,Permissive mismatched,Related,\"N/A, Mel not given\",8.0,No,2.0,No,10.0,0.0,19.793\n",
            "3,High,No,Intermediate,No,2.0,8.0,No TBI,No,6.0,Bone marrow,No,No,No,ALL,6.0,+/+,10.0,2.0,P/P,6.0,2.0,No,2.0,2.0,BM,Intermediate,MAC,Not Hispanic or Latino,2009,No,Positive,No,Permissive,2.0,No,29.23,No,2.0,No,43.245,2.0,FK+ MMF +- others,No,M-M,2.0,White,0.0,90.0,Yes,Permissive mismatched,Unrelated,\"N/A, Mel not given\",8.0,No,2.0,No,10.0,0.0,102.349\n",
            "4,High,No,,No,2.0,8.0,No TBI,No,6.0,Peripheral blood,No,No,No,MPN,6.0,+/+,10.0,2.0,,5.0,2.0,No,2.0,2.0,PB,,MAC,Hispanic or Latino,2018,No,,Yes,,2.0,No,56.81,No,2.0,No,29.74,2.0,TDEPLETION +- other,No,M-F,2.0,American Indian or Alaska Native,1.0,90.0,No,Permissive mismatched,Related,MEL,8.0,No,2.0,No,10.0,0.0,16.223\n",
            "5,High,No,Poor,Yes,2.0,7.0,TBI + Cy +- Other,No,4.0,Peripheral blood,No,No,No,ALL,5.0,+/+,8.0,1.0,P/P,6.0,1.0,No,1.0,1.0,PB,TBD,MAC,Hispanic or Latino,2015,Yes,,No,,2.0,No,27.274,No,1.0,No,32.143,2.0,Cyclophosphamide alone,No,F-F,1.0,White,2.0,90.0,No,Permissive mismatched,Related,\"N/A, Mel not given\",5.0,No,2.0,Yes,6.0,1.0,7.095\n",
            "6,Low,No,Poor,No,2.0,8.0,No TBI,No,6.0,Bone marrow,No,No,No,ALL,6.0,-/+,10.0,2.0,P/P,6.0,2.0,No,2.0,2.0,BM,,RIC,Not Hispanic or Latino,2016,No,,No,Permissive,2.0,No,45.016,No,2.0,No,17.673,2.0,FK+ MMF +- others,No,M-M,2.0,More than one race,1.0,90.0,No,Permissive mismatched,Unrelated,\"N/A, Mel not given\",8.0,No,2.0,Yes,10.0,0.0,46.464\n",
            "7,High,No,,Not done,2.0,5.0,TBI + Cy +- Other,No,3.0,Peripheral blood,No,No,No,IIS,3.0,-/-,6.0,1.0,,3.0,2.0,No,1.0,1.0,BM,,,Not Hispanic or Latino,2018,No,,Yes,,1.0,No,23.102,No,1.0,No,11.073,1.0,Cyclophosphamide alone,No,M-F,1.0,More than one race,0.0,90.0,No,,Related,\"N/A, Mel not given\",5.0,No,1.0,No,6.0,0.0,18.076\n",
            "8,Intermediate,No,Other,No,,,TBI + Cy +- Other,No,6.0,Peripheral blood,No,No,No,ALL,,-/+,,2.0,,,2.0,No,2.0,2.0,PB,,MAC,Hispanic or Latino,2008,No,Negative,No,,,No,36.01,No,2.0,No,35.517,2.0,FK+ MMF +- others,No,F-F,2.0,American Indian or Alaska Native,3.0,90.0,No,,Related,\"N/A, Mel not given\",8.0,No,,Yes,10.0,1.0,10.13\n"
          ]
        }
      ]
    },
    {
      "cell_type": "code",
      "source": [
        "# Test set\n",
        "!head {data_dir}/test.csv"
      ],
      "metadata": {
        "id": "BWvo9R2jEfT6",
        "outputId": "ec2d13c6-7e80-42bc-f82c-98a865909813",
        "colab": {
          "base_uri": "https://localhost:8080/"
        }
      },
      "execution_count": 14,
      "outputs": [
        {
          "output_type": "stream",
          "name": "stdout",
          "text": [
            "ID,dri_score,psych_disturb,cyto_score,diabetes,hla_match_c_high,hla_high_res_8,tbi_status,arrhythmia,hla_low_res_6,graft_type,vent_hist,renal_issue,pulm_severe,prim_disease_hct,hla_high_res_6,cmv_status,hla_high_res_10,hla_match_dqb1_high,tce_imm_match,hla_nmdp_6,hla_match_c_low,rituximab,hla_match_drb1_low,hla_match_dqb1_low,prod_type,cyto_score_detail,conditioning_intensity,ethnicity,year_hct,obesity,mrd_hct,in_vivo_tcd,tce_match,hla_match_a_high,hepatic_severe,donor_age,prior_tumor,hla_match_b_low,peptic_ulcer,age_at_hct,hla_match_a_low,gvhd_proph,rheum_issue,sex_match,hla_match_b_high,race_group,comorbidity_score,karnofsky_score,hepatic_mild,tce_div_match,donor_related,melphalan_dose,hla_low_res_8,cardiac,hla_match_drb1_high,pulm_moderate,hla_low_res_10\n",
            "28800,N/A - non-malignant indication,No,,No,,,No TBI,No,6.0,Bone marrow,No,No,No,IEA,6.0,+/+,,2.0,,6.0,2.0,No,2.0,2.0,BM,,,Not Hispanic or Latino,2016,No,,Yes,,2.0,No,,No,2.0,No,9.942,2.0,FKalone,No,M-F,2.0,More than one race,0.0,90.0,No,,Unrelated,\"N/A, Mel not given\",8.0,No,2.0,No,10.0\n",
            "28801,Intermediate,No,Intermediate,No,2.0,8.0,\"TBI +- Other, >cGy\",No,6.0,Peripheral blood,No,No,No,AML,6.0,+/+,10.0,2.0,P/P,6.0,2.0,No,2.0,2.0,PB,Intermediate,MAC,Not Hispanic or Latino,2008,No,Positive,No,Permissive,2.0,No,72.29,No,2.0,No,43.705,2.0,Other GVHD Prophylaxis,No,F-F,2.0,Asian,3.0,90.0,No,Permissive mismatched,Related,\"N/A, Mel not given\",8.0,No,2.0,Yes,10.0\n",
            "28802,N/A - non-malignant indication,No,,No,2.0,8.0,No TBI,No,6.0,Bone marrow,No,No,No,HIS,6.0,+/+,10.0,2.0,P/P,6.0,2.0,No,2.0,2.0,BM,,,Not Hispanic or Latino,2019,No,,Yes,,2.0,No,,No,2.0,No,33.997,2.0,Cyclophosphamide alone,No,F-M,2.0,More than one race,0.0,90.0,No,Permissive mismatched,Related,\"N/A, Mel not given\",8.0,No,2.0,No,10.0\n"
          ]
        }
      ]
    },
    {
      "cell_type": "code",
      "source": [
        "# Sample submission file\n",
        "!head {data_dir}/sample_submission.csv"
      ],
      "metadata": {
        "id": "h0uVDe6HEnSc",
        "outputId": "f157b915-667b-4be8-a69b-79869b89414b",
        "colab": {
          "base_uri": "https://localhost:8080/"
        }
      },
      "execution_count": 15,
      "outputs": [
        {
          "output_type": "stream",
          "name": "stdout",
          "text": [
            "ID,prediction\n",
            "28800,0.5\n",
            "28801,0.5\n",
            "28802,0.5\n"
          ]
        }
      ]
    },
    {
      "cell_type": "code",
      "source": [
        "# No. of lines in training set\n",
        "!wc -l {data_dir}/train.csv"
      ],
      "metadata": {
        "id": "mJaZZ97oEuV9",
        "outputId": "40ea2dcd-e7a1-4c20-ba44-d80c9281e2e9",
        "colab": {
          "base_uri": "https://localhost:8080/"
        }
      },
      "execution_count": 16,
      "outputs": [
        {
          "output_type": "stream",
          "name": "stdout",
          "text": [
            "28801 ./equity-post-HCT-survival-predictions/train.csv\n"
          ]
        }
      ]
    },
    {
      "cell_type": "code",
      "source": [
        "# No. of lines in test set\n",
        "!wc -l {data_dir}/test.csv"
      ],
      "metadata": {
        "id": "E4RYeOj2EyaH",
        "outputId": "b22248bf-6ee8-4bb9-96bc-df1299bedb99",
        "colab": {
          "base_uri": "https://localhost:8080/"
        }
      },
      "execution_count": 18,
      "outputs": [
        {
          "output_type": "stream",
          "name": "stdout",
          "text": [
            "4 ./equity-post-HCT-survival-predictions/test.csv\n"
          ]
        }
      ]
    },
    {
      "cell_type": "code",
      "source": [
        "# No. of lines in submission file\n",
        "!wc -l {data_dir}/sample_submission.csv"
      ],
      "metadata": {
        "id": "bQjLcHnaFMyN",
        "outputId": "4300ed53-0092-469b-cb31-510f0c0b9830",
        "colab": {
          "base_uri": "https://localhost:8080/"
        }
      },
      "execution_count": 19,
      "outputs": [
        {
          "output_type": "stream",
          "name": "stdout",
          "text": [
            "4 ./equity-post-HCT-survival-predictions/sample_submission.csv\n"
          ]
        }
      ]
    }
  ]
}