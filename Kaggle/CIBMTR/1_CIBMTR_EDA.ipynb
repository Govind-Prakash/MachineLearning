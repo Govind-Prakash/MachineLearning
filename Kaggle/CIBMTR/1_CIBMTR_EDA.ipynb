    {
      "cell_type": "markdown",
      "source": [
        "# CIBMTR - Equity in post-HCT Survival Predictions\n",
        "### [Kaggle Competition](https://www.kaggle.com/competitions/equity-post-HCT-survival-predictions/overview)\n",
        "\n",
        "This tutorial is a part of [Zero to Data Science Bootcamp by Jovian](https://zerotodatascience.com) and [Machine Learning with Python: Zero to GBMs](https://jovian.ai/learn/machine-learning-with-python-zero-to-gbms), I am following Akash's tutorial from [Youtube](https://www.youtube.com/watch?v=hDKCxebp88A&list=PLficpCFOgO5BkGqwo7fbyACAKJxr8Hwwc&index=6), I found this tutorial very helpful, I will also do exercises given in this tutorial by myself, explore the notebook to know more.\n",
        "\n",
        "![](https://i.imgur.com/1EzyZvj.png)"
      ],
      "metadata": {
        "id": "uiwLiUfm895U"
      }
    }
  ]
}
